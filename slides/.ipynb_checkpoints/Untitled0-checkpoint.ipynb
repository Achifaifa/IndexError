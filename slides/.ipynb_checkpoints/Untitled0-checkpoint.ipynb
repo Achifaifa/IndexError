{
 "metadata": {
  "celltoolbar": "Slideshow",
  "name": "",
  "signature": "sha256:19b4c58c5b07e02d1ff083f6cbc4872b65e7d8176f9e995de634e73b280f2695"
 },
 "nbformat": 3,
 "nbformat_minor": 0,
 "worksheets": [
  {
   "cells": [
    {
     "cell_type": "markdown",
     "metadata": {
      "slideshow": {
       "slide_type": "slide"
      }
     },
     "source": [
      "#IndexError: Making python work for us\n",
      "\n",
      "###Yuri Numerov (Achifaifa)\n",
      "###[achi.se]() \u2013 [achi (a) hush.ai](mailto:achi@hush.ai) \u2013 [@Achifaifa](https://twitter.com/achifaifa)"
     ]
    },
    {
     "cell_type": "code",
     "collapsed": false,
     "input": [
      "###The problem\n",
      "\n",
      "Finding out what went wrong sometimes sucks:\n",
      "    \n"
     ],
     "language": "python",
     "metadata": {
      "slideshow": {
       "slide_type": "slide"
      }
     },
     "outputs": []
    }
   ],
   "metadata": {}
  }
 ]
}